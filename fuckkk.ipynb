{
  "cells": [
    {
      "cell_type": "code",
      "execution_count": null,
      "metadata": {},
      "outputs": [],
      "source": [
        "from tropycal import tracks\n",
        "basin = tracks.TrackDataset(basin='north_atlantic',include_btk=False)\n",
        "\n",
        "target_cities = {\n",
        "    \"New Orleans, USA\": (29.9511, -90.0715),\n",
        "    \"Houston, USA\": (29.7604, -95.3698),\n",
        "    \"Tampa, USA\": (27.9506, -82.4572),\n",
        "    \"Miami, USA\": (25.7617, -80.1918),\n",
        "    \"Corpus Christi, USA\": (27.8006, -97.3964),\n",
        "    \"Pensacola, USA\": (30.4213, -87.2169),\n",
        "    \"Mobile, USA\": (30.6954, -88.0399),\n",
        "    \"Galveston, USA\": (29.3013, -94.7977),\n",
        "    \"Biloxi, USA\": (30.3960, -88.8853),\n",
        "    \"Key West, USA\": (24.5551, -81.7800),\n",
        "    \"Veracruz, Mexico\": (19.1738, -96.1342),\n",
        "    \"Tampico, Mexico\": (22.2553, -97.8686),\n",
        "    \"Campeche, Mexico\": (19.8453, -90.5235),\n",
        "    \"Cancún, Mexico\": (21.1619, -86.8515),\n",
        "    \"Mérida, Mexico\": (20.9674, -89.5926),\n",
        "    \"Ciudad del Carmen, Mexico\": (18.6491, -91.8071),\n",
        "    \"Progreso, Mexico\": (21.2836, -89.6645),\n",
        "    \"Coatzacoalcos, Mexico\": (18.1489, -94.4202),\n",
        "    \"Tuxpan, Mexico\": (20.9589, -97.4044),\n",
        "    \"Havana, Cuba\": (23.1136, -82.3666),\n",
        "    \"Varadero, Cuba\": (23.1547, -81.2546),\n",
        "    \"Cienfuegos, Cuba\": (22.1613, -80.4490),\n",
        "    \"Belize City, Belize\": (17.5046, -88.1962),\n",
        "    \"George Town, Cayman Islands\": (19.2869, -81.3674),\n",
        "    \"Nassau, Bahamas\": (25.0343, -77.3963)\n",
        "}\n",
        "\n",
        "currentPoint = target_cities[\"New Orleans, USA\"]\n",
        "\n",
        "basin.analogs_from_point((currentPoint[0], currentPoint[1]),radius=50)"
      ]
    },
    {
      "cell_type": "markdown",
      "metadata": {},
      "source": [
        "grabs storms near new orleans and sorts them by how far they are from the actual lat/long of new orleans (closest to farthest)"
      ]
    },
    {
      "cell_type": "code",
      "execution_count": null,
      "metadata": {},
      "outputs": [],
      "source": [
        "analogs = basin.analogs_from_point((currentPoint[0],currentPoint[1]),radius=50)\n",
        "dict(sorted(analogs.items(), key=lambda item: item[1]))"
      ]
    },
    {
      "cell_type": "markdown",
      "metadata": {},
      "source": [
        "plots courses of storms that come within 50km of new orleans"
      ]
    },
    {
      "cell_type": "code",
      "execution_count": null,
      "metadata": {},
      "outputs": [],
      "source": [
        "basin.plot_analogs_from_point((currentPoint[0],currentPoint[1]),radius=50)"
      ]
    },
    {
      "cell_type": "markdown",
      "metadata": {},
      "source": [
        "plots courses of storms (at least cat1) that come within 100km of new orleans"
      ]
    },
    {
      "cell_type": "code",
      "execution_count": null,
      "metadata": {},
      "outputs": [],
      "source": [
        "#Print storms\n",
        "storms = basin.analogs_from_point((currentPoint[0],currentPoint[1]),radius=100,date_range=('5/1','10/1'),thresh={'v_min':65})\n",
        "print(storms)\n",
        "\n",
        "#Plot storms\n",
        "basin.plot_analogs_from_point((currentPoint[0],currentPoint[1]),radius=100,date_range=('5/1','10/1'),thresh={'v_min':65})"
      ]
    },
    {
      "cell_type": "markdown",
      "metadata": {},
      "source": [
        "plots the course of the storm nearest the specifications (ala, at least a cat1 that goes through new orleans)"
      ]
    },
    {
      "cell_type": "code",
      "execution_count": null,
      "metadata": {},
      "outputs": [],
      "source": [
        "point = (currentPoint[0],currentPoint[1]) #New Orleans lat/lon\n",
        "\n",
        "#Retrieve dict of analogs\n",
        "analogs = basin.analogs_from_point(point,radius=100,date_range=('5/1','10/1'),thresh={'v_min':65})\n",
        "\n",
        "#Sort by ascending value, meaning the first entry is the smallest distance from the point\n",
        "analogs_sorted = sorted(analogs.items(), key=lambda item: item[1])\n",
        "\n",
        "#Get ID of closest storm, which will be the first item of the first entry of analogs_sorted\n",
        "closest_storm = analogs_sorted[0][0]\n",
        "\n",
        "#Plot storm\n",
        "basin.plot_storm(closest_storm)"
      ]
    },
    {
      "cell_type": "markdown",
      "metadata": {},
      "source": [
        "plots the courses of all the storms from the date range that go near the cities listed (the coords for the 25 cities we care about)"
      ]
    },
    {
      "cell_type": "code",
      "execution_count": null,
      "metadata": {},
      "outputs": [],
      "source": [
        "points = [\n",
        "    (29.9511, -90.0715),\n",
        "    (29.7604, -95.3698),\n",
        "    (27.9506, -82.4572),\n",
        "    (25.7617, -80.1918),\n",
        "    (27.8006, -97.3964),\n",
        "    (30.4213, -87.2169),\n",
        "    (30.6954, -88.0399),\n",
        "    (29.3013, -94.7977),\n",
        "    (30.3960, -88.8853),\n",
        "    (24.5551, -81.7800),\n",
        "    (19.1738, -96.1342),\n",
        "    (22.2553, -97.8686),\n",
        "    (19.8453, -90.5235),\n",
        "    (21.1619, -86.8515),\n",
        "    (20.9674, -89.5926),\n",
        "    (18.6491, -91.8071),\n",
        "    (21.2836, -89.6645),\n",
        "    (18.1489, -94.4202),\n",
        "    (20.9589, -97.4044),\n",
        "    (23.1136, -82.3666),\n",
        "    (23.1547, -81.2546),\n",
        "    (22.1613, -80.4490),\n",
        "    (17.5046, -88.1962),\n",
        "    (19.2869, -81.3674),\n",
        "    (25.0343, -77.3963)\n",
        "]\n",
        "\n",
        "#Retrieve list of storms that meet this criteria\n",
        "storms = basin.analogs_from_shape(points,year_range=(1950,2022))\n",
        "print(storms)\n",
        "\n",
        "#Plot storms\n",
        "basin.plot_analogs_from_shape(points,year_range=(1950,2022),prop={'dots':False,'linecolor':'category'})"
      ]
    }
  ],
  "metadata": {
    "kernelspec": {
      "display_name": "Python 3",
      "language": "python",
      "name": "python3"
    },
    "language_info": {
      "codemirror_mode": {
        "name": "ipython",
        "version": 3
      },
      "file_extension": ".py",
      "mimetype": "text/x-python",
      "name": "python",
      "nbconvert_exporter": "python",
      "pygments_lexer": "ipython3",
      "version": "3.13.0"
    }
  },
  "nbformat": 4,
  "nbformat_minor": 0
}
