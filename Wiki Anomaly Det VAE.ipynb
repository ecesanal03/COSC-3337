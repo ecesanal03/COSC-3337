{
 "cells": [
  {
   "cell_type": "markdown",
   "id": "4146dc03-3a6d-48b9-b9c5-20e5a01b1b7b",
   "metadata": {},
   "source": [
    "# COSC 3337 - Fall 2024 \n",
    "# Task 6 Variational AutoEncoder/Anomaly Detection\n",
    "## Wikipedia Traffic Dataset\n",
    "### Raunak Sarbajna"
   ]
  },
  {
   "cell_type": "code",
   "execution_count": 79,
   "id": "439de048-1c9d-4e09-8a7b-c8ece3cff0c4",
   "metadata": {},
   "outputs": [],
   "source": [
    "from datetime import datetime\n",
    "import matplotlib.pyplot as plt\n",
    "import numpy as np\n",
    "import pandas as pd\n",
    "\n",
    "\n",
    "import tensorflow as tf\n",
    "tf.compat.v1.disable_eager_execution()\n",
    "from tensorflow.keras.models import Model, load_model\n",
    "from tensorflow.keras.layers import Lambda, Input, Dense\n",
    "from tensorflow.keras.losses import mse, binary_crossentropy, kl_divergence\n",
    "from tensorflow.keras import optimizers\n",
    "from tensorflow.keras import backend as K\n",
    "\n",
    "from sklearn.model_selection import train_test_split\n",
    "from sklearn.preprocessing import MinMaxScaler, StandardScaler, PowerTransformer\n",
    "\n",
    "import seaborn as sns\n",
    "import matplotlib.pyplot as plt\n",
    "\n",
    "%matplotlib inline\n",
    "\n"
   ]
  },
  {
   "cell_type": "code",
   "execution_count": 80,
   "id": "2edbb3ad-13b8-4a8a-8f52-8d0675736116",
   "metadata": {},
   "outputs": [],
   "source": [
    "# Load the data\n",
    "data = pd.read_csv('wiki_lang_summ.csv', index_col=0)\n",
    "\n",
    "# Preprocess the data\n",
    "scaler = MinMaxScaler()\n",
    "data_scaled = scaler.fit_transform(data)"
   ]
  },
  {
   "cell_type": "code",
   "execution_count": 81,
   "id": "68abab14-e306-4d43-b75b-57056ef2b0fe",
   "metadata": {},
   "outputs": [
    {
     "name": "stdout",
     "output_type": "stream",
     "text": [
      "(412, 7)\n",
      "(138, 7)\n"
     ]
    }
   ],
   "source": [
    "train_ratio = 0.75\n",
    "test_ratio = 0.25\n",
    "\n",
    "# train is now 75% of the entire data set\n",
    "X_train, X_test = train_test_split(data_scaled, test_size=1 - train_ratio, shuffle=False)\n",
    "\n",
    "print(X_train.shape)\n",
    "print(X_test.shape)"
   ]
  },
  {
   "cell_type": "code",
   "execution_count": 82,
   "id": "3cbf2a86-a36b-443a-98e2-41d3019dcd77",
   "metadata": {},
   "outputs": [],
   "source": [
    "def get_error_term(v1, v2, _rmse=True):\n",
    "    if _rmse:\n",
    "        return np.sqrt(np.mean((v1 - v2) ** 2, axis=1))\n",
    "    #return MAE\n",
    "    return np.mean(abs(v1 - v2), axis=1)"
   ]
  },
  {
   "cell_type": "code",
   "execution_count": 84,
   "id": "f69011c2-6efa-4ae9-852c-b9ef5234ae83",
   "metadata": {},
   "outputs": [
    {
     "data": {
      "text/plain": [
       "(7,)"
      ]
     },
     "execution_count": 84,
     "metadata": {},
     "output_type": "execute_result"
    }
   ],
   "source": [
    "original_dim = X_train.shape[1]\n",
    "input_shape = (original_dim,)\n",
    "intermediate_dim = int(original_dim / 2)\n",
    "latent_dim = int(original_dim / 3)\n",
    "input_shape"
   ]
  },
  {
   "cell_type": "markdown",
   "id": "1b7464b3-32df-4c8b-a6ed-409eb9024c4d",
   "metadata": {},
   "source": [
    "## Question 3a\n",
    "### Modify the final line of the sample function to add in an additional random error term. Does this increase or decrease peformance?\n",
    "### Modify the following encoder layer, keeping the z_mean/z_log_var fixed. \n",
    "### You can add/remove layers, change sizes, add dropouts, before the z_mean layer."
   ]
  },
  {
   "cell_type": "code",
   "execution_count": 83,
   "id": "c4bdec7b-5d66-4e89-ae2c-20a555fa836f",
   "metadata": {},
   "outputs": [],
   "source": [
    "# The reparameterization trick\n",
    "\n",
    "def sample(args):\n",
    "    z_mean, z_log_var = args\n",
    "    batch = K.shape(z_mean)[0]\n",
    "    dim = K.int_shape(z_mean)[1]\n",
    "    epsilon = K.random_normal(shape=(batch, dim))\n",
    "    return z_mean + K.exp(0.5 * z_log_var) * epsilon"
   ]
  },
  {
   "cell_type": "code",
   "execution_count": 85,
   "id": "affc1fb2-e6df-4b78-8f8d-0e8db8af6903",
   "metadata": {},
   "outputs": [
    {
     "name": "stdout",
     "output_type": "stream",
     "text": [
      "Model: \"encoder\"\n",
      "__________________________________________________________________________________________________\n",
      " Layer (type)                Output Shape                 Param #   Connected to                  \n",
      "==================================================================================================\n",
      " encoder_input (InputLayer)  [(None, 7)]                  0         []                            \n",
      "                                                                                                  \n",
      " dense_10 (Dense)            (None, 3)                    24        ['encoder_input[0][0]']       \n",
      "                                                                                                  \n",
      " z_mean (Dense)              (None, 2)                    8         ['dense_10[0][0]']            \n",
      "                                                                                                  \n",
      " z_log_var (Dense)           (None, 2)                    8         ['dense_10[0][0]']            \n",
      "                                                                                                  \n",
      " z (Lambda)                  (None, 2)                    0         ['z_mean[0][0]',              \n",
      "                                                                     'z_log_var[0][0]']           \n",
      "                                                                                                  \n",
      "==================================================================================================\n",
      "Total params: 40 (160.00 Byte)\n",
      "Trainable params: 40 (160.00 Byte)\n",
      "Non-trainable params: 0 (0.00 Byte)\n",
      "__________________________________________________________________________________________________\n"
     ]
    }
   ],
   "source": [
    "# encoder model\n",
    "inputs = Input(shape=input_shape, name='encoder_input')\n",
    "x = Dense(intermediate_dim, activation='relu')(inputs)\n",
    "z_mean = Dense(latent_dim, name='z_mean')(x)\n",
    "z_log_var = Dense(latent_dim, name='z_log_var')(x)\n",
    "# use the reparameterization trick and get the output from the sample() function\n",
    "z = Lambda(sample, output_shape=(latent_dim,), name='z')([z_mean, z_log_var])\n",
    "encoder = Model(inputs, z, name='encoder')\n",
    "encoder.summary()"
   ]
  },
  {
   "cell_type": "code",
   "execution_count": 86,
   "id": "63a54b88-07d2-4fa2-96b5-4becb7902cc9",
   "metadata": {},
   "outputs": [
    {
     "name": "stdout",
     "output_type": "stream",
     "text": [
      "Model: \"decoder\"\n",
      "_________________________________________________________________\n",
      " Layer (type)                Output Shape              Param #   \n",
      "=================================================================\n",
      " z_sampling (InputLayer)     [(None, 2)]               0         \n",
      "                                                                 \n",
      " dense_11 (Dense)            (None, 3)                 9         \n",
      "                                                                 \n",
      " dense_12 (Dense)            (None, 7)                 28        \n",
      "                                                                 \n",
      "=================================================================\n",
      "Total params: 37 (148.00 Byte)\n",
      "Trainable params: 37 (148.00 Byte)\n",
      "Non-trainable params: 0 (0.00 Byte)\n",
      "_________________________________________________________________\n"
     ]
    }
   ],
   "source": [
    "# decoder model\n",
    "latent_inputs = Input(shape=(latent_dim,), name='z_sampling')\n",
    "x = Dense(intermediate_dim, activation='relu')(latent_inputs)\n",
    "outputs = Dense(original_dim, activation='sigmoid')(x)\n",
    "# Instantiate the decoder model:\n",
    "decoder = Model(latent_inputs, outputs, name='decoder')\n",
    "decoder.summary()"
   ]
  },
  {
   "cell_type": "code",
   "execution_count": 87,
   "id": "5a5deb93-965a-4aa6-ba62-29c2ed0782de",
   "metadata": {},
   "outputs": [],
   "source": [
    "# full VAE model\n",
    "outputs = decoder(encoder(inputs))\n",
    "vae_model = Model(inputs, outputs, name='vae_mlp')"
   ]
  },
  {
   "cell_type": "code",
   "execution_count": 88,
   "id": "670d72fd-b4db-4b3c-9ff7-74d37b884d5e",
   "metadata": {},
   "outputs": [],
   "source": [
    "# the KL loss function:\n",
    "def vae_loss(x, x_decoded_mean):\n",
    "    # compute the average MSE error, then scale it up, ie. simply sum on all axes\n",
    "    reconstruction_loss = K.sum(K.square(x - x_decoded_mean))\n",
    "    # compute the KL loss\n",
    "    kl_loss = - 0.5 * K.sum(1 + z_log_var - K.square(z_mean) - K.square(K.exp(z_log_var)), axis=-1)\n",
    "    # return the average loss over all \n",
    "    total_loss = K.mean(reconstruction_loss + kl_loss)    \n",
    "    #total_loss = reconstruction_loss + kl_loss\n",
    "    return total_loss"
   ]
  },
  {
   "cell_type": "markdown",
   "id": "734c2dab-ffab-4b98-9abe-b5b9f0645100",
   "metadata": {},
   "source": [
    "## Question 3b\n",
    "### Modify the following parameters:\n",
    "#### learning rate\n",
    "#### epochs\n",
    "#### batch size\n",
    "### Find the best values by looking at the plot in the next cell"
   ]
  },
  {
   "cell_type": "code",
   "execution_count": 89,
   "id": "c9d22641-d1ac-4a17-b09b-7ac48c080625",
   "metadata": {},
   "outputs": [
    {
     "name": "stdout",
     "output_type": "stream",
     "text": [
      "Model: \"vae_mlp\"\n",
      "_________________________________________________________________\n",
      " Layer (type)                Output Shape              Param #   \n",
      "=================================================================\n",
      " encoder_input (InputLayer)  [(None, 7)]               0         \n",
      "                                                                 \n",
      " encoder (Functional)        (None, 2)                 40        \n",
      "                                                                 \n",
      " decoder (Functional)        (None, 7)                 37        \n",
      "                                                                 \n",
      "=================================================================\n",
      "Total params: 77 (308.00 Byte)\n",
      "Trainable params: 77 (308.00 Byte)\n",
      "Non-trainable params: 0 (0.00 Byte)\n",
      "_________________________________________________________________\n",
      "Train on 412 samples\n",
      "Epoch 1/128\n",
      "412/412 [==============================] - 0s 1ms/sample - loss: 15.8365\n",
      "Epoch 2/128\n",
      "412/412 [==============================] - 0s 39us/sample - loss: 15.1409\n",
      "Epoch 3/128\n",
      "412/412 [==============================] - 0s 40us/sample - loss: 14.7854\n",
      "Epoch 4/128\n",
      "412/412 [==============================] - 0s 42us/sample - loss: 14.1365\n",
      "Epoch 5/128\n",
      "412/412 [==============================] - 0s 42us/sample - loss: 13.6808\n",
      "Epoch 6/128\n",
      "412/412 [==============================] - 0s 37us/sample - loss: 13.1722\n",
      "Epoch 7/128\n",
      "412/412 [==============================] - 0s 41us/sample - loss: 12.8680\n",
      "Epoch 8/128\n",
      "412/412 [==============================] - 0s 37us/sample - loss: 12.5395\n",
      "Epoch 9/128\n",
      "412/412 [==============================] - 0s 37us/sample - loss: 11.9966\n",
      "Epoch 10/128\n",
      "412/412 [==============================] - 0s 37us/sample - loss: 11.7225\n",
      "Epoch 11/128\n",
      "412/412 [==============================] - 0s 37us/sample - loss: 11.3540\n",
      "Epoch 12/128\n",
      "412/412 [==============================] - 0s 37us/sample - loss: 11.1299\n",
      "Epoch 13/128\n",
      "412/412 [==============================] - 0s 36us/sample - loss: 10.8959\n",
      "Epoch 14/128\n",
      "412/412 [==============================] - 0s 37us/sample - loss: 10.2971\n",
      "Epoch 15/128\n",
      "412/412 [==============================] - 0s 37us/sample - loss: 10.2236\n",
      "Epoch 16/128\n",
      "412/412 [==============================] - 0s 35us/sample - loss: 9.8294\n",
      "Epoch 17/128\n",
      "412/412 [==============================] - 0s 35us/sample - loss: 9.8686\n",
      "Epoch 18/128\n",
      "412/412 [==============================] - 0s 35us/sample - loss: 9.5001\n",
      "Epoch 19/128\n",
      "412/412 [==============================] - 0s 34us/sample - loss: 9.2692\n",
      "Epoch 20/128\n",
      "412/412 [==============================] - 0s 36us/sample - loss: 8.9517\n",
      "Epoch 21/128\n",
      "412/412 [==============================] - 0s 37us/sample - loss: 8.6322\n",
      "Epoch 22/128\n",
      "412/412 [==============================] - 0s 37us/sample - loss: 8.7657\n",
      "Epoch 23/128\n",
      "412/412 [==============================] - 0s 35us/sample - loss: 8.3414\n",
      "Epoch 24/128\n",
      "412/412 [==============================] - 0s 37us/sample - loss: 8.4889\n",
      "Epoch 25/128\n",
      "412/412 [==============================] - 0s 37us/sample - loss: 8.1064\n",
      "Epoch 26/128\n",
      "412/412 [==============================] - 0s 36us/sample - loss: 8.0313\n",
      "Epoch 27/128\n",
      "412/412 [==============================] - 0s 34us/sample - loss: 7.7469\n",
      "Epoch 28/128\n",
      "412/412 [==============================] - 0s 36us/sample - loss: 7.4972\n",
      "Epoch 29/128\n",
      "412/412 [==============================] - 0s 35us/sample - loss: 7.3585\n",
      "Epoch 30/128\n",
      "412/412 [==============================] - 0s 33us/sample - loss: 7.3645\n",
      "Epoch 31/128\n",
      "412/412 [==============================] - 0s 35us/sample - loss: 6.9227\n",
      "Epoch 32/128\n",
      "412/412 [==============================] - 0s 34us/sample - loss: 7.1428\n",
      "Epoch 33/128\n",
      "412/412 [==============================] - 0s 38us/sample - loss: 6.9837\n",
      "Epoch 34/128\n",
      "412/412 [==============================] - 0s 35us/sample - loss: 6.7211\n",
      "Epoch 35/128\n",
      "412/412 [==============================] - 0s 36us/sample - loss: 6.6023\n",
      "Epoch 36/128\n",
      "412/412 [==============================] - 0s 34us/sample - loss: 6.4641\n",
      "Epoch 37/128\n",
      "412/412 [==============================] - 0s 36us/sample - loss: 6.4471\n",
      "Epoch 38/128\n",
      "412/412 [==============================] - 0s 35us/sample - loss: 6.4027\n",
      "Epoch 39/128\n",
      "412/412 [==============================] - 0s 34us/sample - loss: 6.3017\n",
      "Epoch 40/128\n",
      "412/412 [==============================] - 0s 33us/sample - loss: 6.1714\n",
      "Epoch 41/128\n",
      "412/412 [==============================] - 0s 38us/sample - loss: 6.0019\n",
      "Epoch 42/128\n",
      "412/412 [==============================] - 0s 39us/sample - loss: 5.9860\n",
      "Epoch 43/128\n",
      "412/412 [==============================] - 0s 38us/sample - loss: 6.1420\n",
      "Epoch 44/128\n",
      "412/412 [==============================] - 0s 38us/sample - loss: 5.9082\n",
      "Epoch 45/128\n",
      "412/412 [==============================] - 0s 40us/sample - loss: 5.8872\n",
      "Epoch 46/128\n",
      "412/412 [==============================] - 0s 38us/sample - loss: 5.9163\n",
      "Epoch 47/128\n",
      "412/412 [==============================] - 0s 38us/sample - loss: 5.4376\n",
      "Epoch 48/128\n",
      "412/412 [==============================] - 0s 34us/sample - loss: 5.4735\n",
      "Epoch 49/128\n",
      "412/412 [==============================] - 0s 34us/sample - loss: 5.6388\n",
      "Epoch 50/128\n",
      "412/412 [==============================] - 0s 33us/sample - loss: 5.6067\n",
      "Epoch 51/128\n",
      "412/412 [==============================] - 0s 34us/sample - loss: 5.2867\n",
      "Epoch 52/128\n",
      "412/412 [==============================] - 0s 34us/sample - loss: 5.4301\n",
      "Epoch 53/128\n",
      "412/412 [==============================] - 0s 39us/sample - loss: 5.2739\n",
      "Epoch 54/128\n",
      "412/412 [==============================] - 0s 38us/sample - loss: 5.1508\n",
      "Epoch 55/128\n",
      "412/412 [==============================] - 0s 34us/sample - loss: 5.0966\n",
      "Epoch 56/128\n",
      "412/412 [==============================] - 0s 37us/sample - loss: 5.1744\n",
      "Epoch 57/128\n",
      "412/412 [==============================] - 0s 37us/sample - loss: 5.0900\n",
      "Epoch 58/128\n",
      "412/412 [==============================] - 0s 36us/sample - loss: 5.1149\n",
      "Epoch 59/128\n",
      "412/412 [==============================] - 0s 36us/sample - loss: 4.9726\n",
      "Epoch 60/128\n",
      "412/412 [==============================] - 0s 35us/sample - loss: 4.7490\n",
      "Epoch 61/128\n",
      "412/412 [==============================] - 0s 34us/sample - loss: 4.8061\n",
      "Epoch 62/128\n",
      "412/412 [==============================] - 0s 36us/sample - loss: 4.8907\n",
      "Epoch 63/128\n",
      "412/412 [==============================] - 0s 35us/sample - loss: 4.7168\n",
      "Epoch 64/128\n",
      "412/412 [==============================] - 0s 36us/sample - loss: 4.6481\n",
      "Epoch 65/128\n",
      "412/412 [==============================] - 0s 36us/sample - loss: 4.7145\n",
      "Epoch 66/128\n",
      "412/412 [==============================] - 0s 36us/sample - loss: 4.8042\n",
      "Epoch 67/128\n",
      "412/412 [==============================] - 0s 37us/sample - loss: 4.7118\n",
      "Epoch 68/128\n",
      "412/412 [==============================] - 0s 35us/sample - loss: 4.6735\n",
      "Epoch 69/128\n",
      "412/412 [==============================] - 0s 34us/sample - loss: 4.6179\n",
      "Epoch 70/128\n",
      "412/412 [==============================] - 0s 34us/sample - loss: 4.6384\n",
      "Epoch 71/128\n",
      "412/412 [==============================] - 0s 34us/sample - loss: 4.5636\n",
      "Epoch 72/128\n",
      "412/412 [==============================] - 0s 34us/sample - loss: 4.7118\n",
      "Epoch 73/128\n",
      "412/412 [==============================] - 0s 36us/sample - loss: 4.5682\n",
      "Epoch 74/128\n",
      "412/412 [==============================] - 0s 36us/sample - loss: 4.6179\n",
      "Epoch 75/128\n",
      "412/412 [==============================] - 0s 36us/sample - loss: 4.7612\n",
      "Epoch 76/128\n",
      "412/412 [==============================] - 0s 41us/sample - loss: 4.5937\n",
      "Epoch 77/128\n",
      "412/412 [==============================] - 0s 37us/sample - loss: 4.5033\n",
      "Epoch 78/128\n",
      "412/412 [==============================] - 0s 34us/sample - loss: 4.4938\n",
      "Epoch 79/128\n",
      "412/412 [==============================] - 0s 34us/sample - loss: 4.5506\n",
      "Epoch 80/128\n",
      "412/412 [==============================] - 0s 33us/sample - loss: 4.5058\n",
      "Epoch 81/128\n",
      "412/412 [==============================] - 0s 32us/sample - loss: 4.4646\n",
      "Epoch 82/128\n",
      "412/412 [==============================] - 0s 33us/sample - loss: 4.6064\n",
      "Epoch 83/128\n",
      "412/412 [==============================] - 0s 34us/sample - loss: 4.5178\n",
      "Epoch 84/128\n",
      "412/412 [==============================] - 0s 35us/sample - loss: 4.5677\n",
      "Epoch 85/128\n",
      "412/412 [==============================] - 0s 34us/sample - loss: 4.5440\n",
      "Epoch 86/128\n",
      "412/412 [==============================] - 0s 35us/sample - loss: 4.5103\n",
      "Epoch 87/128\n",
      "412/412 [==============================] - 0s 36us/sample - loss: 4.5821\n",
      "Epoch 88/128\n",
      "412/412 [==============================] - 0s 36us/sample - loss: 4.4835\n",
      "Epoch 89/128\n",
      "412/412 [==============================] - 0s 34us/sample - loss: 4.4018\n",
      "Epoch 90/128\n",
      "412/412 [==============================] - 0s 34us/sample - loss: 4.4382\n",
      "Epoch 91/128\n",
      "412/412 [==============================] - 0s 37us/sample - loss: 4.5765\n",
      "Epoch 92/128\n",
      "412/412 [==============================] - 0s 34us/sample - loss: 4.4348\n",
      "Epoch 93/128\n",
      "412/412 [==============================] - 0s 33us/sample - loss: 4.4303\n",
      "Epoch 94/128\n",
      "412/412 [==============================] - 0s 35us/sample - loss: 4.4089\n",
      "Epoch 95/128\n",
      "412/412 [==============================] - 0s 34us/sample - loss: 4.4266\n",
      "Epoch 96/128\n",
      "412/412 [==============================] - 0s 39us/sample - loss: 4.3458\n",
      "Epoch 97/128\n",
      "412/412 [==============================] - 0s 32us/sample - loss: 4.3973\n",
      "Epoch 98/128\n",
      "412/412 [==============================] - 0s 33us/sample - loss: 4.4501\n",
      "Epoch 99/128\n",
      "412/412 [==============================] - 0s 33us/sample - loss: 4.3548\n",
      "Epoch 100/128\n",
      "412/412 [==============================] - 0s 35us/sample - loss: 4.4233\n",
      "Epoch 101/128\n",
      "412/412 [==============================] - 0s 33us/sample - loss: 4.4145\n",
      "Epoch 102/128\n",
      "412/412 [==============================] - 0s 33us/sample - loss: 4.3725\n",
      "Epoch 103/128\n",
      "412/412 [==============================] - 0s 34us/sample - loss: 4.3668\n",
      "Epoch 104/128\n",
      "412/412 [==============================] - 0s 37us/sample - loss: 4.3997\n",
      "Epoch 105/128\n",
      "412/412 [==============================] - 0s 35us/sample - loss: 4.3665\n",
      "Epoch 106/128\n",
      "412/412 [==============================] - 0s 36us/sample - loss: 4.3814\n",
      "Epoch 107/128\n",
      "412/412 [==============================] - 0s 34us/sample - loss: 4.3924\n",
      "Epoch 108/128\n",
      "412/412 [==============================] - 0s 36us/sample - loss: 4.3949\n",
      "Epoch 109/128\n",
      "412/412 [==============================] - 0s 34us/sample - loss: 4.3987\n",
      "Epoch 110/128\n",
      "412/412 [==============================] - 0s 37us/sample - loss: 4.4937\n",
      "Epoch 111/128\n",
      "412/412 [==============================] - 0s 38us/sample - loss: 4.3292\n",
      "Epoch 112/128\n",
      "412/412 [==============================] - 0s 40us/sample - loss: 4.4691\n",
      "Epoch 113/128\n",
      "412/412 [==============================] - 0s 39us/sample - loss: 4.3720\n",
      "Epoch 114/128\n",
      "412/412 [==============================] - 0s 42us/sample - loss: 4.3565\n",
      "Epoch 115/128\n",
      "412/412 [==============================] - 0s 47us/sample - loss: 4.3075\n",
      "Epoch 116/128\n",
      "412/412 [==============================] - 0s 49us/sample - loss: 4.3344\n",
      "Epoch 117/128\n",
      "412/412 [==============================] - 0s 60us/sample - loss: 4.2803\n",
      "Epoch 118/128\n",
      "412/412 [==============================] - 0s 44us/sample - loss: 4.3380\n",
      "Epoch 119/128\n",
      "412/412 [==============================] - 0s 44us/sample - loss: 4.2564\n",
      "Epoch 120/128\n",
      "412/412 [==============================] - 0s 43us/sample - loss: 4.2619\n",
      "Epoch 121/128\n",
      "412/412 [==============================] - 0s 54us/sample - loss: 4.2188\n",
      "Epoch 122/128\n",
      "412/412 [==============================] - 0s 45us/sample - loss: 4.3103\n",
      "Epoch 123/128\n",
      "412/412 [==============================] - 0s 43us/sample - loss: 4.3273\n",
      "Epoch 124/128\n",
      "412/412 [==============================] - 0s 58us/sample - loss: 4.1964\n",
      "Epoch 125/128\n",
      "412/412 [==============================] - 0s 59us/sample - loss: 4.1313\n",
      "Epoch 126/128\n",
      "412/412 [==============================] - 0s 47us/sample - loss: 4.1433\n",
      "Epoch 127/128\n",
      "412/412 [==============================] - 0s 35us/sample - loss: 4.2427\n",
      "Epoch 128/128\n",
      "412/412 [==============================] - 0s 34us/sample - loss: 4.3297\n"
     ]
    }
   ],
   "source": [
    "opt = optimizers.legacy.Adam(learning_rate=0.001, clipvalue=0.5)\n",
    "#opt = optimizers.RMSprop(learning_rate=0.0001)\n",
    "\n",
    "vae_model.compile(optimizer=opt, loss=vae_loss)\n",
    "vae_model.summary()\n",
    "# Finally, we train the model:\n",
    "results = vae_model.fit(X_train, X_train,\n",
    "                        shuffle=True,\n",
    "                        epochs=128,\n",
    "                        batch_size=32)"
   ]
  },
  {
   "cell_type": "code",
   "execution_count": 90,
   "id": "91015c7c-c85c-4827-a53e-bbddf7d05a39",
   "metadata": {},
   "outputs": [
    {
     "data": {
      "image/png": "[encoded data removed]",
      "text/plain": [
       "<Figure size 432x288 with 1 Axes>"
      ]
     },
     "metadata": {
      "needs_background": "light"
     },
     "output_type": "display_data"
    }
   ],
   "source": [
    "plt.plot(results.history['loss'])\n",
    "#plt.plot(results.history['val_loss'])\n",
    "plt.title('model loss')\n",
    "plt.ylabel('loss')\n",
    "plt.xlabel('epoch')\n",
    "plt.legend(['train', 'test'], loc='upper right');\n",
    "plt.show()"
   ]
  },
  {
   "cell_type": "code",
   "execution_count": 91,
   "id": "389876a2-7a53-4bb4-9fe0-4de48ad7d792",
   "metadata": {},
   "outputs": [
    {
     "name": "stderr",
     "output_type": "stream",
     "text": [
      "C:\\Users\\Rauna\\AppData\\Local\\Programs\\Python\\Python310\\lib\\site-packages\\keras\\src\\engine\\training_v1.py:2359: UserWarning: `Model.state_updates` will be removed in a future version. This property should not be used in TensorFlow 2.0, as `updates` are applied automatically.\n",
      "  updates=self.state_updates,\n"
     ]
    }
   ],
   "source": [
    "X_train_pred = vae_model.predict(X_train)"
   ]
  },
  {
   "cell_type": "markdown",
   "id": "071c4c84-1690-4b6e-8b48-d497cc82e674",
   "metadata": {},
   "source": [
    "## Question 3\n",
    "### Can you find a better threshold system? Explain what you picked, or why not."
   ]
  },
  {
   "cell_type": "code",
   "execution_count": 92,
   "id": "55adf292-5091-422d-b1ea-e473f856cb7e",
   "metadata": {},
   "outputs": [
    {
     "name": "stdout",
     "output_type": "stream",
     "text": [
      "Avg error 0.09169141155683853\n",
      "median error 0.08069648873608978\n",
      "99Q: 0.2527855459957482\n",
      "setting threshold on 0.2527855459957482 \n"
     ]
    }
   ],
   "source": [
    "\n",
    "\n",
    "mae_vector = get_error_term(X_train_pred, X_train, _rmse=False)\n",
    "print(f'Avg error {np.mean(mae_vector)}\\nmedian error {np.median(mae_vector)}\\n99Q: {np.quantile(mae_vector, 0.99)}')\n",
    "print(f'setting threshold on { np.quantile(mae_vector, 0.99)} ')\n",
    "\n",
    "error_thresh = np.quantile(mae_vector, 0.99)\n",
    "\n"
   ]
  },
  {
   "cell_type": "code",
   "execution_count": 93,
   "id": "31c496b3-d610-40d0-8ecd-6a2c19055570",
   "metadata": {},
   "outputs": [
    {
     "data": {
      "text/plain": [
       "0.007246376811594203"
      ]
     },
     "execution_count": 93,
     "metadata": {},
     "output_type": "execute_result"
    }
   ],
   "source": [
    "X_pred = vae_model.predict(X_test)\n",
    "mae_vector = get_error_term(X_pred, X_test, _rmse=False)\n",
    "anomalies = (mae_vector > error_thresh)\n",
    "\n",
    "np.count_nonzero(anomalies) / len(anomalies)"
   ]
  },
  {
   "cell_type": "code",
   "execution_count": 94,
   "id": "67dc3d3a-9b8d-4c6f-8130-cea811071eee",
   "metadata": {},
   "outputs": [
    {
     "data": {
      "text/plain": [
       "(138, 7)"
      ]
     },
     "execution_count": 94,
     "metadata": {},
     "output_type": "execute_result"
    }
   ],
   "source": [
    "X_pred.shape"
   ]
  },
  {
   "cell_type": "code",
   "execution_count": 95,
   "id": "be42b9dc-2cf6-479d-9f20-9ae4da8752bd",
   "metadata": {},
   "outputs": [],
   "source": [
    "X_encoded = encoder.predict(X_test)"
   ]
  },
  {
   "cell_type": "code",
   "execution_count": 96,
   "id": "2e3268d8-67ab-4fe4-9561-c22b3c43149b",
   "metadata": {},
   "outputs": [],
   "source": [
    "from sklearn.decomposition import PCA\n",
    "\n",
    "pca = PCA(n_components=2)\n",
    "X_transform = pca.fit_transform(X_encoded)"
   ]
  },
  {
   "cell_type": "markdown",
   "id": "18cd4ef5-f245-47f9-af99-86d8c535cc40",
   "metadata": {},
   "source": [
    "### Principle Component Decomposition\n",
    "#### For your understanding only, nothing to do here."
   ]
  },
  {
   "cell_type": "code",
   "execution_count": 97,
   "id": "4a7ea1a9-1022-4db9-9d01-e7f7ab9401d9",
   "metadata": {},
   "outputs": [
    {
     "data": {
      "image/png": "[encoded data removed]",
      "text/plain": [
       "<Figure size 1080x864 with 1 Axes>"
      ]
     },
     "metadata": {
      "needs_background": "light"
     },
     "output_type": "display_data"
    }
   ],
   "source": [
    "plt.figure(figsize=(15, 12))\n",
    "sns.scatterplot(x=X_transform[:, 0], y=X_transform[:, 1], s=20, hue=mae_vector)\n",
    "plt.grid()\n",
    "plt.show()"
   ]
  },
  {
   "cell_type": "code",
   "execution_count": 98,
   "id": "d8ae9aa3-1f44-4c22-9e9d-e887f0526165",
   "metadata": {},
   "outputs": [
    {
     "data": {
      "image/png": "[encoded data removed]",
      "text/plain": [
       "<Figure size 1080x864 with 1 Axes>"
      ]
     },
     "metadata": {
      "needs_background": "light"
     },
     "output_type": "display_data"
    }
   ],
   "source": [
    "plt.figure(figsize=(15, 12))\n",
    "sns.scatterplot(x=X_transform[:, 0], y=X_transform[:, 1], s=20, hue=anomalies)\n",
    "plt.grid()\n",
    "plt.show()"
   ]
  },
  {
   "cell_type": "code",
   "execution_count": null,
   "id": "707b54c9-65c2-410d-9ffd-15e8bf9a1797",
   "metadata": {},
   "outputs": [],
   "source": []
  }
 ],
 "metadata": {
  "kernelspec": {
   "display_name": "Python 3 (ipykernel)",
   "language": "python",
   "name": "python3"
  },
  "language_info": {
   "codemirror_mode": {
    "name": "ipython",
    "version": 3
   },
   "file_extension": ".py",
   "mimetype": "text/x-python",
   "name": "python",
   "nbconvert_exporter": "python",
   "pygments_lexer": "ipython3",
   "version": "3.10.2"
  }
 },
 "nbformat": 4,
 "nbformat_minor": 5
}
